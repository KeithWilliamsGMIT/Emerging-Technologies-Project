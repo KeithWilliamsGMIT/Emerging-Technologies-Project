{
 "cells": [
  {
   "cell_type": "markdown",
   "metadata": {},
   "source": [
    "# Machine learning with Tensorflow\n",
    "The purpose of this notebook is to document the research carried out in relation to the use of TensorFlow in this project. Machine learning with TensorFlow is the main aspect of the project. We'll use [TensorFlow](https://www.tensorflow.org/) to detect a digit between 0 and 9 from an image. Before trying to solve this problem it is important to explain TensorFlow.\n",
    "\n",
    "## What is TensorFlow?\n",
    "TensorFlow is an open-source software library released in 2015 by Google. It is used for numerical computing and is based on the dataflow paradigm in which a program is modelled as a directed graph. The nodes in this graph represent mathematical operations, while the graph edges represent the data, or tensors, being passed between the nodes. A tensor in mathematics is a multidimensional data array. TensorFlow is applicable in many fields but it is primarily intended for machine learning because the graph in TensorFlow is essentially a neural network. While the human brain is effective at recognising patterns, it is a difficult challenge for a computer to solve. Neural networks try to overcome this challenge by modelling the human brain, where each node in the graph represents a single neuron. The following are the high level steps involved in using TensorFlow to solve a problem.\n",
    "\n",
    "### 1) Analyse the data\n",
    "The first step is to analyse the input data to the graph. How is the data set divided up? For example, the MNIST data set used by TensorFlow is split into three parts. These include 55,000 data points of training data, 10,000 points of test data, and 5,000 points of validation data, where each data point is an image with the dimensions 28px x 28px and a corresponding label between 0 and 9. What format is the data in? For example, the images in the MNIST data set aren't represented as 2D arrays but are instead flattened into a 1D array with 784 elements (28x28) where each element in the array is a number between 0 and 255. It's important to understand the data set you will be dealing with.\n",
    "\n",
    "### 2) Build a model\n",
    "The next step is to construct the model, or graph, in TensorFlow. The model you build will be directly related to the problem you want to solve and the algorithm you want to use. The model is created by creating nodes. Edges are created by using an existing node in the operation of a new node. Nodes with no incoming edges, meaning an in-degree of 0, are considered the start nodes. This is where the input data will enter the graph. There can be many start nodes. The node that is executed will output the result. It is also worth mentioning that a subgraph can be executed. In this case TensorFlow will walk backwards from the node that was executed and will only use the start nodes that have a path to the node that was executed. TensorFlow offers three basic types of nodes. The first is a constant node whose value is set when building the model and doesn't change. The second is a variable node whose value is set when the model is ran and whose value doesn't change during execution. The third type of node is a variable node whose value is set when the model is ran and can be changed by TensorFlow. The variable node is possibly the most important type of node as the aim of using TensorFlow is to get it to approximate the best values for these variable nodes.\n",
    "\n",
    "### 3) Train the model\n",
    "Training in machine learning is the process of adjusting the values in the variable nodes mentioned above. During the training phase the results should be known for each given input. For example, using the MNIST training data set, if an image with the number 9 is the input to the model then we must know that 9 is the desired outcome. This is the purpose of the labels in the MNIST data set. Before being able to train a model we need a method to measure how good, or bad, the model is so that TensorFlow knows in what direction to change the variables, meaning should they be incremented or decremented. This is achieved using a cost function. The cost function will again depend on what problem you want to solve. This function determines how close the model is from the desired outcome. One algorithm used to train a model is gradient descent. Gradient descent simply shifts each variable a little bit in the direction that reduces the cost. By training the model many times this cost function should get closer and closer to zero. Two variables to consider when training the model are the learning rate and the number of iterations it is trained. The learning rate is the proportional amount that each variable is changed on each iteration. If this learning rate is too low the model will take a long time to train. If this rate is too big it might never find the optimal values for the variables.\n",
    "\n",
    "### 4) Evaluate the model\n",
    "Finally, we can evaluate our model based on its accuracy. We can do this by using test data. It is important that this test data is completely independent from the data used to train the model. However, like the training set we must know the outcome, or result, for each data point in the test set. To calculate the accuracy of a model we pass the test data through the model and compare the results to the expected outcome. From this we can then calculate the accuracy as a percentage.\n",
    "\n",
    "# The MNIST problem\n",
    "The MNIST problem is commonly used to demonstrate and learn machine learning. We want to determine which digit, between 0 and 9, is in a given image. This is known as a classification problem. Classification is the process where computers group data together based on predetermined characteristics. This is also called supervised learning. Classification problems are common in machine learning.\n",
    "\n",
    "## Solution\n",
    "The challenge of any machine learning problem is choosing a suitable model. The softmax model is a good starting point for classification problems such as this, where we want to assign probabilities to an object being one of several different things. Softmax returns a list of values between 0 and 1 that add up to 1. It involves the following two steps.\n",
    "\n",
    "1. Add up the evidence of our input being in certain classes  \n",
    "In our case the input is a flattend 28px x 28px greyscale image, or in other words an array with 784 elements, each with a value between 0 and 255. To tally up the evidence that a given image is in a particular class, we do a weighted sum of the pixel intensities. A bias is added along with the input from the image to say that some things are more likely independent of the input.\n",
    "2. Convert that evidence into probabilities  \n",
    "Softmax is used as an activation function. An activation function of a node defines the output of that node given an input or set of inputs. In this case, we want the output of the model to be a probability distribution over 10 cases.\n",
    "\n",
    "A basic solution using softmax regression is available in the Jupyter notebook named named `beginner.ipynb`. This solution was mostly adapted from the [TensorFlow MNIST tutorial for beginners](https://www.tensorflow.org/get_started/mnist/beginners). Within this notebook, you can experiment with changing values to see how it affects the accuracy. This model has an expected accuracy of approximately 92%.\n",
    "\n",
    "However, we can build on this basic model by adding additional layers in order to improve the accuracy. An example of this is available in the Jupyter notebook named `advanced.ipynb`. This solution was mostly adapted from the [Deep MNIST for Experts](https://www.tensorflow.org/get_started/mnist/pros) tutorial on the TensorFlow website. This model has an expected accuracy of approximately 99.2%."
   ]
  }
 ],
 "metadata": {
  "kernelspec": {
   "display_name": "Python 3",
   "language": "python",
   "name": "python3"
  },
  "language_info": {
   "codemirror_mode": {
    "name": "ipython",
    "version": 3
   },
   "file_extension": ".py",
   "mimetype": "text/x-python",
   "name": "python",
   "nbconvert_exporter": "python",
   "pygments_lexer": "ipython3",
   "version": "3.6.1"
  }
 },
 "nbformat": 4,
 "nbformat_minor": 2
}
