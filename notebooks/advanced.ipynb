{
 "cells": [
  {
   "cell_type": "markdown",
   "metadata": {},
   "source": [
    "# MNIST - Advanced\n",
    "This notebook is intended to explain the additional layers added to the simple model. These layers were adapted from the [Deep MNIST for Experts](https://www.tensorflow.org/get_started/mnist/pros) tutorial on the TensorFlow website. Parts of this workbook were taken from the other Jupyter notebook on MNIST for beginners. Before getting started, import any libraries that may be required."
   ]
  },
  {
   "cell_type": "code",
   "execution_count": 1,
   "metadata": {
    "collapsed": true
   },
   "outputs": [],
   "source": [
    "# Import tensorflow and MNIST.\n",
    "import tensorflow as tf\n",
    "from tensorflow.examples.tutorials.mnist import input_data\n",
    "\n",
    "# Efficiently deals with numerical multi-dimensional arrays.\n",
    "import numpy as np\n",
    "\n",
    "# matplotlib is a plotting library. pyplot is its easy-to-use module.\n",
    "import matplotlib.pyplot as plt"
   ]
  },
  {
   "cell_type": "markdown",
   "metadata": {},
   "source": [
    "### Load the data\n",
    "Load the MNIST data set from TensorFlow in the same way as we did in the beginner notebook."
   ]
  },
  {
   "cell_type": "code",
   "execution_count": 2,
   "metadata": {},
   "outputs": [
    {
     "name": "stdout",
     "output_type": "stream",
     "text": [
      "Extracting MNIST_data/train-images-idx3-ubyte.gz\n",
      "Extracting MNIST_data/train-labels-idx1-ubyte.gz\n",
      "Extracting MNIST_data/t10k-images-idx3-ubyte.gz\n",
      "Extracting MNIST_data/t10k-labels-idx1-ubyte.gz\n"
     ]
    }
   ],
   "source": [
    "mnist = input_data.read_data_sets('MNIST_data/', one_hot=True)"
   ]
  },
  {
   "cell_type": "markdown",
   "metadata": {},
   "source": [
    "### Define the model\n",
    "\n",
    "#### Simple model\n",
    "The advanced model is based on the simple model we created in the beginner notebook. We'll recreate this simple model below. The only difference is that we don't create the softmax neuron just yet."
   ]
  },
  {
   "cell_type": "code",
   "execution_count": 3,
   "metadata": {
    "collapsed": true
   },
   "outputs": [],
   "source": [
    "# Create a placeholder node for pixels of flattened image.\n",
    "x = tf.placeholder(tf.float32, [None, 784], name='x')\n",
    "\n",
    "# Create the weight and bias as variables so that their values can be adjusted by tensorflow.\n",
    "W = tf.Variable(tf.zeros([784, 10]))\n",
    "b = tf.Variable(tf.zeros([10]))"
   ]
  },
  {
   "cell_type": "markdown",
   "metadata": {},
   "source": [
    "#### Helper functions\n",
    "Here we will define a number of helper functions that will be used later in the notebook to create the TensorFlow model. The first function will initialise weights with a small amount of noise for symmetry breaking and to prevent 0 gradients."
   ]
  },
  {
   "cell_type": "code",
   "execution_count": 4,
   "metadata": {
    "collapsed": true
   },
   "outputs": [],
   "source": [
    "def weight_variable(shape):\n",
    "    initial = tf.truncated_normal(shape, stddev=0.1)\n",
    "    return tf.Variable(initial)"
   ]
  },
  {
   "cell_type": "markdown",
   "metadata": {},
   "source": [
    "The next function will initialise biases with a slightly positive initial bias to avoid \"dead neurons\" since ReLU neurons will be used. ReLU (rectified linear unit) neurons are used as activation function in deep learning networks. They are defined as f(x)=max(0,x) where x is the input."
   ]
  },
  {
   "cell_type": "code",
   "execution_count": 5,
   "metadata": {
    "collapsed": true
   },
   "outputs": [],
   "source": [
    "def bias_variable(shape):\n",
    "    initial = tf.constant(0.1, shape=shape)\n",
    "    return tf.Variable(initial)"
   ]
  },
  {
   "cell_type": "markdown",
   "metadata": {},
   "source": [
    "The next function will setup convolutions. A convolution is an operation on two functions that produce a third. These convolutions will use stride of one and are zero padded so that the output is the same size as the input"
   ]
  },
  {
   "cell_type": "code",
   "execution_count": 6,
   "metadata": {
    "collapsed": true
   },
   "outputs": [],
   "source": [
    "def conv2d(x, W):\n",
    "    # In this case our two functions are x and W.\n",
    "    return tf.nn.conv2d(x, W, strides=[1, 1, 1, 1], padding='SAME')"
   ]
  },
  {
   "cell_type": "markdown",
   "metadata": {},
   "source": [
    "The last function will initialise pooling. The pooling is plain old max pooling over 2x2 blocks."
   ]
  },
  {
   "cell_type": "code",
   "execution_count": 7,
   "metadata": {
    "collapsed": true
   },
   "outputs": [],
   "source": [
    "def max_pool_2x2(x):\n",
    "    return tf.nn.max_pool(x, ksize=[1, 2, 2, 1], strides=[1, 2, 2, 1], padding='SAME')"
   ]
  },
  {
   "cell_type": "markdown",
   "metadata": {},
   "source": [
    "#### 1) First convolutional layer\n",
    "This convolution will compute 32 features for each 5x5 patch. A feature is an individual measurable property or characteristic of a phenomenon being observed, usually numeric. Its weight tensor will have a shape of [5, 5, 1, 32]. The first two dimensions are the patch size, the next is the number of input channels, and the last is the number of output channels."
   ]
  },
  {
   "cell_type": "code",
   "execution_count": 8,
   "metadata": {
    "collapsed": true
   },
   "outputs": [],
   "source": [
    "# The first two dimensions are the patch size, the next is the number of input channels, and the last is the number of output channels.\n",
    "W_conv1 = weight_variable([5, 5, 1, 32])\n",
    "b_conv1 = bias_variable([32])\n",
    "\n",
    "# First reshape x to a 4d tensor, with the second and third dimensions corresponding to image width and height, and the final dimension corresponding to the number of color channels.\n",
    "x_image = tf.reshape(x, [-1, 28, 28, 1])\n",
    "\n",
    "# Convolve x_image with the weight tensor.\n",
    "h_conv1 = tf.nn.relu(conv2d(x_image, W_conv1) + b_conv1)\n",
    "h_pool1 = max_pool_2x2(h_conv1)"
   ]
  },
  {
   "cell_type": "markdown",
   "metadata": {},
   "source": [
    "#### 2) Second convolutional layer"
   ]
  },
  {
   "cell_type": "code",
   "execution_count": 9,
   "metadata": {
    "collapsed": true
   },
   "outputs": [],
   "source": [
    "# This layer will have 64 features for each 5x5 patch.\n",
    "W_conv2 = weight_variable([5, 5, 32, 64])\n",
    "b_conv2 = bias_variable([64])\n",
    "\n",
    "h_conv2 = tf.nn.relu(conv2d(h_pool1, W_conv2) + b_conv2)\n",
    "h_pool2 = max_pool_2x2(h_conv2)"
   ]
  },
  {
   "cell_type": "markdown",
   "metadata": {},
   "source": [
    "#### 3) Densely connected layer\n",
    "The image size has been reduced to 7x7. Now add a fully-connected layer with 1024 neurons to allow processing on the entire image."
   ]
  },
  {
   "cell_type": "code",
   "execution_count": 10,
   "metadata": {
    "collapsed": true
   },
   "outputs": [],
   "source": [
    "# Reshape the tensor from the pooling layer into a batch of vectors, multiply by a weight matrix, add a bias, and apply a ReLU.\n",
    "W_fc1 = weight_variable([7 * 7 * 64, 1024])\n",
    "b_fc1 = bias_variable([1024])\n",
    "\n",
    "h_pool2_flat = tf.reshape(h_pool2, [-1, 7 * 7 * 64])\n",
    "h_fc1 = tf.nn.relu(tf.matmul(h_pool2_flat, W_fc1) + b_fc1)"
   ]
  },
  {
   "cell_type": "markdown",
   "metadata": {},
   "source": [
    "#### 4) Dropout\n",
    "To reduce overfitting, we will apply dropout before the readout layer."
   ]
  },
  {
   "cell_type": "code",
   "execution_count": 11,
   "metadata": {
    "collapsed": true
   },
   "outputs": [],
   "source": [
    "# Create a placeholder for the probability that a neuron's output is kept during dropout. \n",
    "# This allows us to turn dropout on during training, and turn it off during testing.\n",
    "# TensorFlow's tf.nn.dropout op automatically handles scaling neuron outputs in addition to masking them.\n",
    "# Therefore, dropout just works without any additional scaling.\n",
    "keep_prob = tf.placeholder(tf.float32, name='keep_prob')\n",
    "h_fc1_drop = tf.nn.dropout(h_fc1, keep_prob)"
   ]
  },
  {
   "cell_type": "markdown",
   "metadata": {},
   "source": [
    "#### 5) Readout layer"
   ]
  },
  {
   "cell_type": "code",
   "execution_count": 12,
   "metadata": {
    "collapsed": true
   },
   "outputs": [],
   "source": [
    "W_fc2 = weight_variable([1024, 10])\n",
    "b_fc2 = bias_variable([10])\n",
    "\n",
    "y_conv = tf.add(tf.matmul(h_fc1_drop, W_fc2), b_fc2, name='y_conv')"
   ]
  },
  {
   "cell_type": "markdown",
   "metadata": {},
   "source": [
    "### Evaluating the model (Part 1)\n",
    "The neurons used to evaluate the model accuracy remain mostly unchanged from the basic version. The only difference is that we replaced the `y` neuron with `y_conv`."
   ]
  },
  {
   "cell_type": "code",
   "execution_count": 13,
   "metadata": {
    "collapsed": true
   },
   "outputs": [],
   "source": [
    "# Placeholder for the correct label.\n",
    "y_ = tf.placeholder(tf.float32, [None, 10])\n",
    "\n",
    "# Get index of highest entry on both the tensors representing the result and correct labels.\n",
    "correct_prediction = tf.equal(tf.argmax(y_conv, 1), tf.argmax(y_, 1))\n",
    "\n",
    "# Determine the fraction that are correct.\n",
    "accuracy = tf.reduce_mean(tf.cast(correct_prediction, tf.float32))"
   ]
  },
  {
   "cell_type": "markdown",
   "metadata": {},
   "source": [
    "### Training the model\n",
    "We'll define two variables to determine the number of times the model should be trained and the learning rate."
   ]
  },
  {
   "cell_type": "code",
   "execution_count": 14,
   "metadata": {
    "collapsed": true
   },
   "outputs": [],
   "source": [
    "training_epochs = 1000\n",
    "learning_rate = 1e-4"
   ]
  },
  {
   "cell_type": "markdown",
   "metadata": {},
   "source": [
    "There are also slight changes in training this model from the basic model. We use a different cost function called `softmax_cross_entropy_with_logits`. We also use the AdamOptimiser instead of the GradientDescentOptimiser. The advantage of Adam over Gradient Descent is that it uses moving averages of the parameters which allows it to use a larger effective step size. The algorithm will converge to this step size without fine tuning. The main down side of Adam is that it requires more computation for each parameter in each training step."
   ]
  },
  {
   "cell_type": "code",
   "execution_count": 15,
   "metadata": {
    "collapsed": true
   },
   "outputs": [],
   "source": [
    "# Implement the cross-entropy function between the target and the softmax activation function applied to the model's prediction.\n",
    "cross_entropy = tf.reduce_mean(tf.nn.softmax_cross_entropy_with_logits(labels=y_, logits=y_conv))\n",
    "\n",
    "# Minimize cross_entropy using the adam algorithm.\n",
    "train_step = tf.train.AdamOptimizer(learning_rate).minimize(cross_entropy)"
   ]
  },
  {
   "cell_type": "markdown",
   "metadata": {},
   "source": [
    "The rest of the training process, including starting a TensorFlow session, selecting a sample batch and executing the training step multiple times remains the same as with the basic model. In the interest of time, we only train the model 1000 times in this notebook. Even this can take up to a few minutes. Training the model this many times will lead to a lower accuracy compared to training it say 20000 times."
   ]
  },
  {
   "cell_type": "code",
   "execution_count": 16,
   "metadata": {
    "collapsed": true
   },
   "outputs": [],
   "source": [
    "# Create a tensorflow session in which the model will run and initialize the variables.\n",
    "sess = tf.Session()\n",
    "init = tf.global_variables_initializer()\n",
    "sess.run(init)\n",
    "\n",
    "accuracy_history = np.empty(shape=[1], dtype=float)\n",
    "loss_history = np.empty(shape=[1], dtype=float)\n",
    "\n",
    "# Train the model X numnber of times.\n",
    "for i in range(training_epochs):\n",
    "    batch_xs, batch_ys = mnist.train.next_batch(50)\n",
    "    \n",
    "    # Evaluate the accuracy of the model every 50th iteration.\n",
    "    if i % 50 == 0:\n",
    "        # Save accuracy value.\n",
    "        accuracy_history = np.append(accuracy_history, sess.run(accuracy, feed_dict={x: batch_xs, y_: batch_ys, keep_prob: 1.0}))\n",
    "\n",
    "        # Save loss value.\n",
    "        loss_history = np.append(loss_history, sess.run(cross_entropy, feed_dict={x: batch_xs, y_: batch_ys, keep_prob: 1.0}))\n",
    "    \n",
    "    sess.run(train_step, feed_dict={x: batch_xs, y_: batch_ys, keep_prob: 0.5})"
   ]
  },
  {
   "cell_type": "markdown",
   "metadata": {},
   "source": [
    "### Evaluate the model (Part 2)\n",
    "We'll plot the accuracy and loss values to get a better sense of how the advanced model is progressing at each training step. The goal has not changed from the basic model. We must try to maximise the accuracy while minimising the loss."
   ]
  },
  {
   "cell_type": "code",
   "execution_count": 17,
   "metadata": {},
   "outputs": [
    {
     "data": {
      "image/png": "[encoded data removed]",
      "text/plain": [
       "<matplotlib.figure.Figure at 0x7fd8cbe62c50>"
      ]
     },
     "metadata": {},
     "output_type": "display_data"
    },
    {
     "name": "stdout",
     "output_type": "stream",
     "text": [
      "Accuracy: 0.9415\n"
     ]
    },
    {
     "data": {
      "image/png": "[encoded data removed]",
      "text/plain": [
       "<matplotlib.figure.Figure at 0x7fd8c961fa20>"
      ]
     },
     "metadata": {},
     "output_type": "display_data"
    },
    {
     "name": "stdout",
     "output_type": "stream",
     "text": [
      "Loss: 0.191406\n"
     ]
    }
   ],
   "source": [
    "# This sets the default plot size to be bigger.\n",
    "plt.rcParams['figure.figsize'] = (16.0, 8.0)\n",
    "\n",
    "# Adapted from https://aqibsaeed.github.io/2016-07-07-TensorflowLR/\n",
    "# Plot accuracy values.\n",
    "plt.plot(range(len(accuracy_history)), accuracy_history)\n",
    "plt.axis([0, 20, 0, 1])\n",
    "plt.xlabel('Training Step')\n",
    "plt.ylabel('Accuracy')\n",
    "plt.title('Accuracy value at each training step')\n",
    "plt.show()\n",
    "\n",
    "# Output the final accuracy for the test set.\n",
    "print('Accuracy: %s' % (sess.run(accuracy, feed_dict={x: mnist.test.images, y_: mnist.test.labels, keep_prob: 0.5})))\n",
    "\n",
    "# Plot loss values.\n",
    "plt.plot(range(len(loss_history)), loss_history)\n",
    "plt.axis([0, 20, 0, np.max(loss_history)])\n",
    "plt.xlabel('Training Step')\n",
    "plt.ylabel('Loss')\n",
    "plt.title('Loss value at each training step')\n",
    "plt.show()\n",
    "\n",
    "# Output the final loss for the test set.\n",
    "print('Loss: %s' % (sess.run(cross_entropy, feed_dict={x: mnist.test.images, y_: mnist.test.labels, keep_prob: 0.5})))"
   ]
  },
  {
   "cell_type": "markdown",
   "metadata": {},
   "source": [
    "Despite training this model relatively few times we still achieve a better accuracy than with the basic model."
   ]
  }
 ],
 "metadata": {
  "kernelspec": {
   "display_name": "Python 3",
   "language": "python",
   "name": "python3"
  },
  "language_info": {
   "codemirror_mode": {
    "name": "ipython",
    "version": 3
   },
   "file_extension": ".py",
   "mimetype": "text/x-python",
   "name": "python",
   "nbconvert_exporter": "python",
   "pygments_lexer": "ipython3",
   "version": "3.6.1"
  }
 },
 "nbformat": 4,
 "nbformat_minor": 2
}
